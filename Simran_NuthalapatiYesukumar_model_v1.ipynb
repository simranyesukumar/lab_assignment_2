{
 "cells": [
  {
   "cell_type": "code",
   "execution_count": 1,
   "id": "8a7ecefb",
   "metadata": {},
   "outputs": [],
   "source": [
    "#importing the libraries\n",
    "import numpy as np\n",
    "import pandas as pd\n",
    "import seaborn as sns\n",
    "import matplotlib.pyplot as plt\n",
    "%matplotlib inline\n",
    "import xgboost\n",
    "from sklearn.ensemble import RandomForestClassifier\n",
    "from sklearn.linear_model import LogisticRegression\n",
    "from sklearn.metrics import confusion_matrix, accuracy_score,classification_report\n",
    "from sklearn.model_selection import train_test_split"
   ]
  },
  {
   "cell_type": "code",
   "execution_count": 2,
   "id": "28671895",
   "metadata": {},
   "outputs": [],
   "source": [
    "#Importing the dataset\n",
    "cancer_df= pd.read_csv('https://archive.ics.uci.edu/ml/machine-learning-databases/breast-cancer-wisconsin/breast-cancer-wisconsin.data')\n",
    "cancer_df.columns = ['id', 'clump_thickness', 'uniformity_of_cell_size', 'uniformity_of_cell_shape', 'marginal_adhesion', 'single_epithelial_cell_size', 'bare_nuclei', 'bland_chromatin', 'normal_nucleoli', 'mitoses', 'class']"
   ]
  },
  {
   "cell_type": "code",
   "execution_count": 3,
   "id": "78ca4edb",
   "metadata": {},
   "outputs": [],
   "source": [
    "#Data Preprocessing and cleaning of the dataset\n",
    "cancer_df = cancer_df.replace('?', np.nan).dropna()\n",
    "cancer_df.drop(['id'], axis=1, inplace=True)"
   ]
  },
  {
   "cell_type": "code",
   "execution_count": 4,
   "id": "5974321e",
   "metadata": {},
   "outputs": [
    {
     "data": {
      "text/plain": [
       "clump_thickness                0\n",
       "uniformity_of_cell_size        0\n",
       "uniformity_of_cell_shape       0\n",
       "marginal_adhesion              0\n",
       "single_epithelial_cell_size    0\n",
       "bare_nuclei                    0\n",
       "bland_chromatin                0\n",
       "normal_nucleoli                0\n",
       "mitoses                        0\n",
       "class                          0\n",
       "dtype: int64"
      ]
     },
     "execution_count": 4,
     "metadata": {},
     "output_type": "execute_result"
    }
   ],
   "source": [
    "#Data Analysis\n",
    "cancer_df.isnull().sum()"
   ]
  },
  {
   "cell_type": "code",
   "execution_count": 5,
   "id": "f3aa1a8e",
   "metadata": {},
   "outputs": [
    {
     "data": {
      "text/html": [
       "<div>\n",
       "<style scoped>\n",
       "    .dataframe tbody tr th:only-of-type {\n",
       "        vertical-align: middle;\n",
       "    }\n",
       "\n",
       "    .dataframe tbody tr th {\n",
       "        vertical-align: top;\n",
       "    }\n",
       "\n",
       "    .dataframe thead th {\n",
       "        text-align: right;\n",
       "    }\n",
       "</style>\n",
       "<table border=\"1\" class=\"dataframe\">\n",
       "  <thead>\n",
       "    <tr style=\"text-align: right;\">\n",
       "      <th></th>\n",
       "      <th>clump_thickness</th>\n",
       "      <th>uniformity_of_cell_size</th>\n",
       "      <th>uniformity_of_cell_shape</th>\n",
       "      <th>marginal_adhesion</th>\n",
       "      <th>single_epithelial_cell_size</th>\n",
       "      <th>bland_chromatin</th>\n",
       "      <th>normal_nucleoli</th>\n",
       "      <th>mitoses</th>\n",
       "      <th>class</th>\n",
       "    </tr>\n",
       "  </thead>\n",
       "  <tbody>\n",
       "    <tr>\n",
       "      <th>count</th>\n",
       "      <td>682.000000</td>\n",
       "      <td>682.000000</td>\n",
       "      <td>682.000000</td>\n",
       "      <td>682.000000</td>\n",
       "      <td>682.000000</td>\n",
       "      <td>682.000000</td>\n",
       "      <td>682.000000</td>\n",
       "      <td>682.000000</td>\n",
       "      <td>682.000000</td>\n",
       "    </tr>\n",
       "    <tr>\n",
       "      <th>mean</th>\n",
       "      <td>4.441349</td>\n",
       "      <td>3.153959</td>\n",
       "      <td>3.218475</td>\n",
       "      <td>2.832845</td>\n",
       "      <td>3.236070</td>\n",
       "      <td>3.445748</td>\n",
       "      <td>2.872434</td>\n",
       "      <td>1.604106</td>\n",
       "      <td>2.700880</td>\n",
       "    </tr>\n",
       "    <tr>\n",
       "      <th>std</th>\n",
       "      <td>2.822751</td>\n",
       "      <td>3.066285</td>\n",
       "      <td>2.989568</td>\n",
       "      <td>2.865805</td>\n",
       "      <td>2.224214</td>\n",
       "      <td>2.451435</td>\n",
       "      <td>3.054065</td>\n",
       "      <td>1.733792</td>\n",
       "      <td>0.954916</td>\n",
       "    </tr>\n",
       "    <tr>\n",
       "      <th>min</th>\n",
       "      <td>1.000000</td>\n",
       "      <td>1.000000</td>\n",
       "      <td>1.000000</td>\n",
       "      <td>1.000000</td>\n",
       "      <td>1.000000</td>\n",
       "      <td>1.000000</td>\n",
       "      <td>1.000000</td>\n",
       "      <td>1.000000</td>\n",
       "      <td>2.000000</td>\n",
       "    </tr>\n",
       "    <tr>\n",
       "      <th>25%</th>\n",
       "      <td>2.000000</td>\n",
       "      <td>1.000000</td>\n",
       "      <td>1.000000</td>\n",
       "      <td>1.000000</td>\n",
       "      <td>2.000000</td>\n",
       "      <td>2.000000</td>\n",
       "      <td>1.000000</td>\n",
       "      <td>1.000000</td>\n",
       "      <td>2.000000</td>\n",
       "    </tr>\n",
       "    <tr>\n",
       "      <th>50%</th>\n",
       "      <td>4.000000</td>\n",
       "      <td>1.000000</td>\n",
       "      <td>1.000000</td>\n",
       "      <td>1.000000</td>\n",
       "      <td>2.000000</td>\n",
       "      <td>3.000000</td>\n",
       "      <td>1.000000</td>\n",
       "      <td>1.000000</td>\n",
       "      <td>2.000000</td>\n",
       "    </tr>\n",
       "    <tr>\n",
       "      <th>75%</th>\n",
       "      <td>6.000000</td>\n",
       "      <td>5.000000</td>\n",
       "      <td>5.000000</td>\n",
       "      <td>4.000000</td>\n",
       "      <td>4.000000</td>\n",
       "      <td>5.000000</td>\n",
       "      <td>4.000000</td>\n",
       "      <td>1.000000</td>\n",
       "      <td>4.000000</td>\n",
       "    </tr>\n",
       "    <tr>\n",
       "      <th>max</th>\n",
       "      <td>10.000000</td>\n",
       "      <td>10.000000</td>\n",
       "      <td>10.000000</td>\n",
       "      <td>10.000000</td>\n",
       "      <td>10.000000</td>\n",
       "      <td>10.000000</td>\n",
       "      <td>10.000000</td>\n",
       "      <td>10.000000</td>\n",
       "      <td>4.000000</td>\n",
       "    </tr>\n",
       "  </tbody>\n",
       "</table>\n",
       "</div>"
      ],
      "text/plain": [
       "       clump_thickness  uniformity_of_cell_size  uniformity_of_cell_shape  \\\n",
       "count       682.000000               682.000000                682.000000   \n",
       "mean          4.441349                 3.153959                  3.218475   \n",
       "std           2.822751                 3.066285                  2.989568   \n",
       "min           1.000000                 1.000000                  1.000000   \n",
       "25%           2.000000                 1.000000                  1.000000   \n",
       "50%           4.000000                 1.000000                  1.000000   \n",
       "75%           6.000000                 5.000000                  5.000000   \n",
       "max          10.000000                10.000000                 10.000000   \n",
       "\n",
       "       marginal_adhesion  single_epithelial_cell_size  bland_chromatin  \\\n",
       "count         682.000000                   682.000000       682.000000   \n",
       "mean            2.832845                     3.236070         3.445748   \n",
       "std             2.865805                     2.224214         2.451435   \n",
       "min             1.000000                     1.000000         1.000000   \n",
       "25%             1.000000                     2.000000         2.000000   \n",
       "50%             1.000000                     2.000000         3.000000   \n",
       "75%             4.000000                     4.000000         5.000000   \n",
       "max            10.000000                    10.000000        10.000000   \n",
       "\n",
       "       normal_nucleoli     mitoses       class  \n",
       "count       682.000000  682.000000  682.000000  \n",
       "mean          2.872434    1.604106    2.700880  \n",
       "std           3.054065    1.733792    0.954916  \n",
       "min           1.000000    1.000000    2.000000  \n",
       "25%           1.000000    1.000000    2.000000  \n",
       "50%           1.000000    1.000000    2.000000  \n",
       "75%           4.000000    1.000000    4.000000  \n",
       "max          10.000000   10.000000    4.000000  "
      ]
     },
     "execution_count": 5,
     "metadata": {},
     "output_type": "execute_result"
    }
   ],
   "source": [
    "#Describing the dataset\n",
    "cancer_df.describe()"
   ]
  },
  {
   "cell_type": "code",
   "execution_count": 6,
   "id": "483d28d6",
   "metadata": {},
   "outputs": [
    {
     "data": {
      "text/plain": [
       "(682, 10)"
      ]
     },
     "execution_count": 6,
     "metadata": {},
     "output_type": "execute_result"
    }
   ],
   "source": [
    "#Shape of the dataset\n",
    "cancer_df.shape"
   ]
  },
  {
   "cell_type": "code",
   "execution_count": 7,
   "id": "ce54895c",
   "metadata": {},
   "outputs": [
    {
     "data": {
      "text/plain": [
       "Index(['clump_thickness', 'uniformity_of_cell_size',\n",
       "       'uniformity_of_cell_shape', 'marginal_adhesion',\n",
       "       'single_epithelial_cell_size', 'bare_nuclei', 'bland_chromatin',\n",
       "       'normal_nucleoli', 'mitoses', 'class'],\n",
       "      dtype='object')"
      ]
     },
     "execution_count": 7,
     "metadata": {},
     "output_type": "execute_result"
    }
   ],
   "source": [
    "#Columns in the dataset\n",
    "cancer_df.columns"
   ]
  },
  {
   "cell_type": "code",
   "execution_count": 8,
   "id": "2e2f66f9",
   "metadata": {},
   "outputs": [
    {
     "data": {
      "text/plain": [
       "2    443\n",
       "4    239\n",
       "Name: class, dtype: int64"
      ]
     },
     "execution_count": 8,
     "metadata": {},
     "output_type": "execute_result"
    }
   ],
   "source": [
    "#Output variable value count\n",
    "cancer_df['class'].value_counts()"
   ]
  },
  {
   "cell_type": "code",
   "execution_count": 9,
   "id": "85fdcaa5",
   "metadata": {},
   "outputs": [],
   "source": [
    "#Preparing the training and the test dataset\n",
    "X=cancer_df.drop(['class'], axis=1)\n",
    "y=cancer_df['class']\n",
    "#Splitting the training and the test dataset\n",
    "x_train, x_test, y_train, y_test = train_test_split(X, y, test_size=0.3, random_state=42)"
   ]
  },
  {
   "cell_type": "code",
   "execution_count": 10,
   "id": "263cbf26",
   "metadata": {},
   "outputs": [
    {
     "name": "stdout",
     "output_type": "stream",
     "text": [
      "Accuracy is:  97.07317073170731\n"
     ]
    },
    {
     "data": {
      "text/plain": [
       "<AxesSubplot:>"
      ]
     },
     "execution_count": 10,
     "metadata": {},
     "output_type": "execute_result"
    },
    {
     "data": {
      "image/png": "[encoded data removed]",
      "text/plain": [
       "<Figure size 432x288 with 2 Axes>"
      ]
     },
     "metadata": {
      "needs_background": "light"
     },
     "output_type": "display_data"
    }
   ],
   "source": [
    "#Training the random forest model\n",
    "random_forest_model = RandomForestClassifier()      \n",
    "random_forest_model = random_forest_model.fit(x_train,y_train)\n",
    "#Predicting the random forest model using the test dataset\n",
    "random_forest_predict = random_forest_model.predict(x_test)\n",
    "random_forest_accuracy = accuracy_score(y_test,random_forest_predict)\n",
    "#Accuracy of the model\n",
    "print('Accuracy is: ',100* random_forest_accuracy)\n",
    "#Confusion matrix of the model\n",
    "random_forest_confusion_matrix = confusion_matrix(y_test,random_forest_predict)\n",
    "sns.heatmap(random_forest_confusion_matrix,annot=True,fmt=\"d\")"
   ]
  },
  {
   "cell_type": "code",
   "execution_count": 11,
   "id": "54437286",
   "metadata": {},
   "outputs": [
    {
     "name": "stdout",
     "output_type": "stream",
     "text": [
      "              precision    recall  f1-score   support\n",
      "\n",
      "           2       0.97      0.99      0.98       136\n",
      "           4       0.97      0.94      0.96        69\n",
      "\n",
      "    accuracy                           0.97       205\n",
      "   macro avg       0.97      0.96      0.97       205\n",
      "weighted avg       0.97      0.97      0.97       205\n",
      "\n"
     ]
    }
   ],
   "source": [
    "#Evaluating the model\n",
    "print(classification_report(y_test, random_forest_predict))"
   ]
  },
  {
   "cell_type": "code",
   "execution_count": null,
   "id": "f48c71bb",
   "metadata": {},
   "outputs": [],
   "source": []
  }
 ],
 "metadata": {
  "kernelspec": {
   "display_name": "Python 3",
   "language": "python",
   "name": "python3"
  },
  "language_info": {
   "codemirror_mode": {
    "name": "ipython",
    "version": 3
   },
   "file_extension": ".py",
   "mimetype": "text/x-python",
   "name": "python",
   "nbconvert_exporter": "python",
   "pygments_lexer": "ipython3",
   "version": "3.8.8"
  }
 },
 "nbformat": 4,
 "nbformat_minor": 5
}
